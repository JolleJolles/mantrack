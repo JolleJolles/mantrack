{
 "cells": [
  {
   "cell_type": "markdown",
   "metadata": {},
   "source": [
    "### Load modules"
   ]
  },
  {
   "cell_type": "code",
   "execution_count": null,
   "metadata": {},
   "outputs": [],
   "source": [
    "import os\n",
    "import cv2\n",
    "import animlab\n",
    "import mantrack"
   ]
  },
  {
   "cell_type": "markdown",
   "metadata": {},
   "source": [
    "### Set the working directory\n",
    "Here I will set the working directory to the folder \"videos\" in the folder \"data\" in the home user directory. But the full directory can also be entered directrly ofcourse, e.g. \"/Users/Someone/Dropbox/Science/videos\""
   ]
  },
  {
   "cell_type": "code",
   "execution_count": null,
   "metadata": {},
   "outputs": [],
   "source": [
    "homedir = animlab.homedir()\n",
    "videodir = homedir + \"/videos/experimental/\"\n",
    "os.chdir(videodir)"
   ]
  },
  {
   "cell_type": "markdown",
   "metadata": {},
   "source": [
    "### Working with mantrack\n",
    "The *Track_manual* class is the main functionality of the ManTrack package that needs to be set for each video. To see all the parameters you can set:"
   ]
  },
  {
   "cell_type": "code",
   "execution_count": null,
   "metadata": {},
   "outputs": [],
   "source": [
    "print(mantrack.Track_Manual.__doc__)"
   ]
  },
  {
   "cell_type": "markdown",
   "metadata": {},
   "source": [
    "One of the main features of mantrack is that the user can easily control the manual tracking of videos using a wide range of keyboard keys. To see how to use the keyboard to manual track enter: "
   ]
  },
  {
   "cell_type": "code",
   "execution_count": null,
   "metadata": {},
   "outputs": [],
   "source": [
    "print(mantrack.Track_Manual.keypress.__doc__)"
   ]
  },
  {
   "cell_type": "markdown",
   "metadata": {},
   "source": [
    "### Considerations\n",
    "1. Keep in mind that with manual tracking not every single frame needs to be tracked but just enough such that reliable data in-between tracked frames can be tracked. For example if an animal is moving from point A to point B between frames 110 and 146 in a relatively straight line with constant speed, the position and speed for those intermediate frames can be easily automatically computed.\n",
    "\n",
    "2. This is the same for the state variable so therefore it is especially important to note ALL state changes during a trial and make sure the start and end state are correct. So when the correct start frame of the trial has been found, immideately also set the state the animal is in for that frame. \n",
    "\n",
    "3. When trials contain a refuge it is important to get the frames of exit and enterring the refuge and mark those same frames with the right state change.\n",
    "\n",
    "4. Make sure you always click on roughly the same spot on the animal's body for consistency and especially consider this when the animal's body is not visible as normal, such as when jumping or partly under cover.\n",
    "\n",
    "5. If datacrop is set to True the data will be cropped to the first and last frame that have been tracked. Therefore if your videos start and end with a period that should not considered as trial time use datacrop=True and make sure that the frame you'd like to consider as first frame has a value scored, either the position of the animal or it's state."
   ]
  },
  {
   "cell_type": "markdown",
   "metadata": {},
   "source": [
    "### Manually track a single video\n",
    "This code shows an example how to set the parameters to manually track a single video called \"video1.mp4\", which should be located in the \"videodir\" provided above. \n",
    "\n",
    "For this video, we will create a new tracking file for an animal with ID \"F01\", and enable the manual tracking of the centre and frontpint of the animal. No safecount is required as we are sure the video framenumbers are correct and do not contain skipped frames. We don't want to crop the datafile to the frame we will manually track and will look at the range from frame 10-5000. We resize the video with 50% to make it bigger. And finally, we include the tracking of the state of the animal, which we label as \"outofcover\". So when the animal is hidden we change the state to 0 and when it is visible we change it to 1."
   ]
  },
  {
   "cell_type": "code",
   "execution_count": null,
   "metadata": {},
   "outputs": [],
   "source": [
    "# Get video name\n",
    "vidfile = \"examplevid.mp4\"\n",
    "\n",
    "# Set up the manual tracking instance\n",
    "TM = mantrack.Track_Manual(vidfile, fileaction = \"newfile\", ids = [\"F01\"], ptypes = [\"c\",\"f\"], \n",
    "                  safecount = False, datacrop = False, firstframe = 6, lastframe = 8, \n",
    "                  resizeval = 0.3, statevar = \"outofcover\")\n",
    "\n",
    "# Run the tracking instance\n",
    "TM.track()"
   ]
  },
  {
   "cell_type": "markdown",
   "metadata": {},
   "source": [
    "### Manually track multiple videos\n",
    "To make full use of the manual tracker, we will automatically go through all videos in a folder and we will automatically ask for the animal IDs."
   ]
  },
  {
   "cell_type": "code",
   "execution_count": null,
   "metadata": {},
   "outputs": [],
   "source": [
    "# Get video names automatically\n",
    "vidlist = AL.utils.listfiles(filedir = \".\", filetype = \".mp4\", dirs = False, keepdir = False)\n",
    "print(\"Nr of videos:\", len(vidlist), end = \" - \")\n",
    "\n",
    "# Run a loop over the files to create separte manual trackin instances\n",
    "for vidfile in vidlist:\n",
    "    \n",
    "    # Ask user for the ids in the vide\n",
    "    ids = input(\"Enter IDs of the animals separated by comma's or press 'x' to exit: \")\n",
    "    ids = ids.split(',')\n",
    "    if ids == [\"x\"]:\n",
    "        break\n",
    "        \n",
    "    else:\n",
    "    \n",
    "        # Set up the manual tracking instance\n",
    "        TM = mantrack.Track_Manual(vidfile, fileaction = \"newfile\", ids = list(ids), ptypes = [\"c\"], \n",
    "                      safecount = False, datacrop = True, resizeval = 1.5, statevar = \"outofcover\")\n",
    "\n",
    "        # Run the tracking instance\n",
    "        TM.track()"
   ]
  }
 ],
 "metadata": {
  "kernelspec": {
   "display_name": "Python 2",
   "language": "python",
   "name": "python2"
  },
  "language_info": {
   "codemirror_mode": {
    "name": "ipython",
    "version": 2
   },
   "file_extension": ".py",
   "mimetype": "text/x-python",
   "name": "python",
   "nbconvert_exporter": "python",
   "pygments_lexer": "ipython2",
   "version": "2.7.12"
  },
  "nteract": {
   "version": "0.12.3"
  }
 },
 "nbformat": 4,
 "nbformat_minor": 2
}
